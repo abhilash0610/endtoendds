{
 "cells": [
  {
   "cell_type": "code",
   "execution_count": 1,
   "metadata": {},
   "outputs": [],
   "source": [
    "import numpy as np"
   ]
  },
  {
   "cell_type": "code",
   "execution_count": 2,
   "metadata": {},
   "outputs": [
    {
     "name": "stdout",
     "output_type": "stream",
     "text": [
      "x: \n",
      " [0 1 2 3 4 5 6 7 8 9]\n",
      "\n",
      "dimension of the array: \n",
      " 1\n"
     ]
    }
   ],
   "source": [
    "# 1. Create a 1D array of numbers from 0 to 9.\n",
    "x = np.arange(0,10)\n",
    "print('x: \\n',x)\n",
    "print('\\ndimension of the array: \\n',x.ndim)"
   ]
  },
  {
   "cell_type": "code",
   "execution_count": 3,
   "metadata": {},
   "outputs": [
    {
     "name": "stdout",
     "output_type": "stream",
     "text": [
      "[[ True  True  True]\n",
      " [ True  True  True]\n",
      " [ True  True  True]]\n",
      "\n",
      "shape of the array x: \n",
      " (3, 3)\n"
     ]
    }
   ],
   "source": [
    "# 2. Create a 3×3 numpy array of all True’s\n",
    "x = np.ones(shape = (3,3), dtype = bool)\n",
    "print(x)\n",
    "print('\\nshape of the array x: \\n', x.shape)"
   ]
  },
  {
   "cell_type": "code",
   "execution_count": 14,
   "metadata": {},
   "outputs": [
    {
     "name": "stdout",
     "output_type": "stream",
     "text": [
      "x: \n",
      " [[ 2  3  4  8]\n",
      " [ 5  6  7 10]\n",
      " [12 14 13 15]]\n",
      "\n",
      "odd numbers in the array are: \n",
      " [ 3  5  7 13 15]\n",
      "\n",
      " replace all odd numbers with -2: \n",
      " [[ 2 -2  4  8]\n",
      " [-2  6 -2 10]\n",
      " [12 14 -2 -2]]\n"
     ]
    }
   ],
   "source": [
    "# 3. Given an array as input, print only odd numbers as output\n",
    "x = np.array([[2,3,4,8],[5,6,7,10],[12,14,13,15]])\n",
    "print('x: \\n',x)\n",
    "print('\\nodd numbers in the array are: \\n', x[x%2!=0])\n",
    "# 4. Replace all odd numbers in arr with -2\n",
    "x[x%2!=0] = -2\n",
    "print('\\n replace all odd numbers with -2: \\n', x)"
   ]
  },
  {
   "cell_type": "code",
   "execution_count": 5,
   "metadata": {},
   "outputs": [
    {
     "name": "stdout",
     "output_type": "stream",
     "text": [
      "original array x: \n",
      " [[1. 1. 1. 1.]\n",
      " [1. 1. 1. 1.]\n",
      " [1. 1. 1. 1.]\n",
      " [1. 1. 1. 1.]]\n",
      "\n",
      "shape of the original array x: \n",
      " (4, 4)\n",
      "\n",
      "after reshape: \n",
      " [[1. 1.]\n",
      " [1. 1.]\n",
      " [1. 1.]\n",
      " [1. 1.]\n",
      " [1. 1.]\n",
      " [1. 1.]\n",
      " [1. 1.]\n",
      " [1. 1.]]\n",
      "\n",
      " shape of the rehsaped array: \n",
      " (8, 2)\n"
     ]
    }
   ],
   "source": [
    "# 5. How to reshape an array?\n",
    "x = np.ones(shape = (4,4))\n",
    "print('original array x: \\n',x)\n",
    "print('\\nshape of the original array x: \\n', x.shape)\n",
    "y=x.reshape(8,2)\n",
    "print('\\nafter reshape: \\n', y)\n",
    "print('\\n shape of the rehsaped array: \\n', y.shape)"
   ]
  },
  {
   "cell_type": "code",
   "execution_count": 6,
   "metadata": {},
   "outputs": [
    {
     "name": "stdout",
     "output_type": "stream",
     "text": [
      "1d array x: \n",
      " [0 1 2 3 4 5 6 7]\n",
      "\n",
      "dimension of the array: \n",
      " 1\n",
      "\n",
      "shape of the array x: \n",
      " (8,)\n",
      "\n",
      " 2d array with 2 rows: \n",
      " [[0 1 2 3]\n",
      " [4 5 6 7]]\n",
      "\n",
      " dimension of the new array with 2 rows: \n",
      " 2\n"
     ]
    }
   ],
   "source": [
    "# 6. Convert a 1D array to a 2D array with 2 rows\n",
    "x = np.arange(0,8)\n",
    "print('1d array x: \\n', x)\n",
    "print('\\ndimension of the array: \\n', x.ndim)\n",
    "print('\\nshape of the array x: \\n', x.shape)\n",
    "y = x.reshape(2,4)\n",
    "print('\\n 2d array with 2 rows: \\n', y)\n",
    "print('\\n dimension of the new array with 2 rows: \\n', y.ndim)"
   ]
  },
  {
   "cell_type": "code",
   "execution_count": 7,
   "metadata": {},
   "outputs": [
    {
     "name": "stdout",
     "output_type": "stream",
     "text": [
      "a: \n",
      " [1 2 3 4 5 6 7 8 9]\n",
      "\n",
      "array with all odd numbers: \n",
      " [1 3 5 7 9]\n",
      "\n",
      "array with 4 multiples: \n",
      " [4 8]\n",
      "\n",
      "array with odd numbers and 4 multiples: \n",
      " [1 3 4 5 7 8 9]\n"
     ]
    }
   ],
   "source": [
    "# 7. Given an array  a  = [1,2,3,4,5,6,7,8,9] , \n",
    "# create  new array b from a such that b includes all odd numbers and 4 multiples. \n",
    "a = np.array([1,2,3,4,5,6,7,8,9])\n",
    "print('a: \\n', a)\n",
    "a1 = a[a%2 != 0]\n",
    "print('\\narray with all odd numbers: \\n', a1)\n",
    "a2 = a[a%4 == 0]\n",
    "print('\\narray with 4 multiples: \\n', a2)\n",
    "b = np.union1d(a1,a2)\n",
    "print('\\narray with odd numbers and 4 multiples: \\n', b)"
   ]
  },
  {
   "cell_type": "code",
   "execution_count": 8,
   "metadata": {},
   "outputs": [
    {
     "name": "stdout",
     "output_type": "stream",
     "text": [
      "x: \n",
      " [[ 1.  2. nan]\n",
      " [ 4. nan  7.]]\n",
      "\n",
      "does x has any null values?: \n",
      " [[False False  True]\n",
      " [False  True False]]\n",
      "\n",
      "null values in x: \n",
      " [nan nan]\n",
      "replacing all missing values with 0: \n",
      " [[1. 2. 0.]\n",
      " [4. 0. 7.]]\n"
     ]
    }
   ],
   "source": [
    "# 8. Given array, check if there are any null values and print them out. \n",
    "x = np.array([[1,2,np.nan], [4,np.nan,7]])\n",
    "print('x: \\n',x)\n",
    "print('\\ndoes x has any null values?: \\n', np.isnan(x))\n",
    "print('\\nnull values in x: \\n', x[np.isnan(x)])\n",
    "\n",
    "# 9. How to replace all missing values with 0 in a numpy array?\n",
    "x[np.isnan(x)] = 0\n",
    "print('replacing all missing values with 0: \\n', x)"
   ]
  },
  {
   "cell_type": "code",
   "execution_count": 9,
   "metadata": {},
   "outputs": [
    {
     "name": "stdout",
     "output_type": "stream",
     "text": [
      "x: \n",
      " [[[ 33  44  33  55  22]\n",
      "  [ 11  66  22  88  99]]\n",
      "\n",
      " [[ 11  66  22  99 100]\n",
      "  [ 99  55  77  11  22]]]\n",
      "\n",
      "unique elements of the array are: \n",
      " (array([ 11,  22,  33,  44,  55,  66,  77,  88,  99, 100]), array([3, 4, 2, 1, 2, 2, 1, 1, 3, 1], dtype=int64))\n"
     ]
    }
   ],
   "source": [
    "# 10. How to find the count of each unique number in a NumPy array?\n",
    "x = np.array([[[33,44,33,55,22],[11,66,22,88,99]],[[11,66,22,99,100],[99,55,77,11,22]]])\n",
    "print('x: \\n', x)\n",
    "print('\\nunique elements of the array are: \\n', np.unique(x, return_counts=True))"
   ]
  },
  {
   "cell_type": "code",
   "execution_count": 59,
   "metadata": {},
   "outputs": [
    {
     "name": "stdout",
     "output_type": "stream",
     "text": [
      "x: \n",
      " [[ 4  5  6]\n",
      " [33 21 47]\n",
      " [87 54 60]]\n",
      "y: \n",
      " [['4' '5' '6']\n",
      " ['33' '21' '47']\n",
      " ['87' '54' '60']]\n",
      "<U11\n"
     ]
    }
   ],
   "source": [
    "# 11. How to convert a numeric to a categorical (text) array?\n",
    "x = np.array([[4,5,6],[33,21,47],[87,54,60]], dtype = 'int32')\n",
    "print('x: \\n', x)\n",
    "y = x.astype('str')\n",
    "print('y: \\n', y)\n",
    "print(y.dtype)"
   ]
  },
  {
   "cell_type": "code",
   "execution_count": 11,
   "metadata": {},
   "outputs": [
    {
     "name": "stdout",
     "output_type": "stream",
     "text": [
      "original array x: \n",
      " [ 99 100 101 102 103 104 105 106 107 108 109 110 111 112 113 114 115 116\n",
      " 117 118 119 120 121 122 123 124 125 126 127 128 129 130 131 132 133 134\n",
      " 135 136 137 138 139 140 141 142 143 144 145 146 147 148 149 150 151 152\n",
      " 153 154 155 156 157 158 159 160 161 162 163 164 165 166 167 168 169 170\n",
      " 171 172 173 174 175 176 177 178 179 180 181 182 183 184 185 186 187 188\n",
      " 189 190 191 192 193 194 195 196 197 198 199 200 201 202 203 204 205 206\n",
      " 207 208 209 210 211 212 213 214 215 216 217 218 219 220 221 222 223 224\n",
      " 225 226 227 228 229 230 231 232 233 234 235 236 237 238 239 240 241 242\n",
      " 243 244 245 246 247 248 249 250 251 252 253 254 255 256 257 258 259 260\n",
      " 261 262 263 264 265 266 267 268 269 270 271 272 273 274 275 276 277 278\n",
      " 279 280 281 282 283 284 285 286 287 288 289 290 291 292 293 294 295 296\n",
      " 297 298]\n",
      "\n",
      "numbers divisible by 5: \n",
      " [100 105 110 115 120 125 130 135 140 145 150 155 160 165 170 175 180 185\n",
      " 190 195 200 205 210 215 220 225 230 235 240 245 250 255 260 265 270 275\n",
      " 280 285 290 295]\n",
      "\n",
      " numbers divisible by 7: \n",
      " [105 112 119 126 133 140 147 154 161 168 175 182 189 196 203 210 217 224\n",
      " 231 238 245 252 259 266 273 280 287 294]\n",
      "\n",
      " numbers divisible by 5 or 7 but not both: \n",
      " [100 110 112 115 119 120 125 126 130 133 135 145 147 150 154 155 160 161\n",
      " 165 168 170 180 182 185 189 190 195 196 200 203 205 215 217 220 224 225\n",
      " 230 231 235 238 240 250 252 255 259 260 265 266 270 273 275 285 287 290\n",
      " 294 295]\n"
     ]
    }
   ],
   "source": [
    "# 12. Write a program to print all numbers between 99 and 299 which are either divisible by 5 or 7. Exclude the elements which are divisible by both.\n",
    "x = np.arange(99,299)\n",
    "a = x[x%5 == 0]\n",
    "b = x[x%7 == 0]\n",
    "c = np.setxor1d(a,b)\n",
    "print('original array x: \\n',x)\n",
    "print('\\nnumbers divisible by 5: \\n',a)\n",
    "print('\\n numbers divisible by 7: \\n',b)\n",
    "print('\\n numbers divisible by 5 or 7 but not both: \\n', c)"
   ]
  },
  {
   "cell_type": "code",
   "execution_count": 60,
   "metadata": {},
   "outputs": [
    {
     "name": "stdout",
     "output_type": "stream",
     "text": [
      "original array x: \n",
      " [10 15 20 25 30 35 40 45 50 55 60 65 70 75 80 85 90 95]\n",
      "\n",
      "reversed array: \n",
      " [95 90 85 80 75 70 65 60 55 50 45 40 35 30 25 20 15 10]\n"
     ]
    }
   ],
   "source": [
    "# 12. Write a program to reverse an array and print (Don’t use inbuilt reverse functions)\n",
    "x = np.arange(10,100,5)\n",
    "print('original array x: \\n', x)\n",
    "print('\\nreversed array: \\n', x[::-1])"
   ]
  }
 ],
 "metadata": {
  "kernelspec": {
   "display_name": "Python 3",
   "language": "python",
   "name": "python3"
  },
  "language_info": {
   "codemirror_mode": {
    "name": "ipython",
    "version": 3
   },
   "file_extension": ".py",
   "mimetype": "text/x-python",
   "name": "python",
   "nbconvert_exporter": "python",
   "pygments_lexer": "ipython3",
   "version": "3.7.4"
  }
 },
 "nbformat": 4,
 "nbformat_minor": 2
}
