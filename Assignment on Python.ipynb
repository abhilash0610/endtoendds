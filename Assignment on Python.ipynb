{
 "cells": [
  {
   "cell_type": "code",
   "execution_count": 1,
   "metadata": {},
   "outputs": [
    {
     "name": "stdout",
     "output_type": "stream",
     "text": [
      "Average length of the given string is: 5.125\n"
     ]
    }
   ],
   "source": [
    "#Average length of the string\n",
    "a = \" I am very keen in building up my career in Data Science, but not sure from where to start. If I search the web it throws me thousands of articles, few are relevant others make me confused, again I come around to the same page. Supervised has provided me a good platform to remove all such qualms which were wrangling in my mind\"\n",
    "words = len(a.split(\" \"))\n",
    "chars = len(a)\n",
    "avg_length = chars/words\n",
    "print(\"Average length of the given string is:\", avg_length)"
   ]
  },
  {
   "cell_type": "code",
   "execution_count": 2,
   "metadata": {},
   "outputs": [
    {
     "name": "stdout",
     "output_type": "stream",
     "text": [
      " i am very keen in building up my career in data science, but not sure from where to start. if i search the web it throws me thousands of articles, few are relevant others make me confused, again i come around to the same page. supervised has provided me a good platform to remove all such qualms which were wrangling in my mind\n"
     ]
    }
   ],
   "source": [
    "#Lowering the string\n",
    "lower = a.lower()\n",
    "print(lower)"
   ]
  },
  {
   "cell_type": "code",
   "execution_count": 3,
   "metadata": {},
   "outputs": [
    {
     "name": "stdout",
     "output_type": "stream",
     "text": [
      " I am very keen in building up my career in Data Science but not sure from where to start If I search the web it throws me thousands of articles few are relevant others make me confused again I come around to the same page Supervised has provided me a good platform to remove all such qualms which were wrangling in my mind\n"
     ]
    }
   ],
   "source": [
    "#Clean String\n",
    "import string\n",
    "a\n",
    "clean_string = a.translate(a.maketrans(\" \",\" \", string.punctuation))\n",
    "print(clean_string)"
   ]
  },
  {
   "cell_type": "code",
   "execution_count": 4,
   "metadata": {},
   "outputs": [
    {
     "name": "stdout",
     "output_type": "stream",
     "text": [
      " I am very keen in building up my career in Data Science but not sure from where to start If I search the web it throws me thousands of articles few are relevant others make me confused again I come around to the same page Supervised has provided me a good platform to remove all such qualms which were wrangling in my mind\n"
     ]
    }
   ],
   "source": [
    "#Clean String\n",
    "import string\n",
    "clean_String1 = \"\".join(c for c in a if c not in string.punctuation)\n",
    "print(clean_String1)"
   ]
  },
  {
   "cell_type": "code",
   "execution_count": 12,
   "metadata": {},
   "outputs": [
    {
     "name": "stdout",
     "output_type": "stream",
     "text": [
      "['Data Science']\n"
     ]
    }
   ],
   "source": [
    "import re\n",
    "extract = \" I am very keen in building up my career in Data Science, but not sure from where to start. If I search the web it throws me thousands of articles, few are relevant others make me confused, again I come around to the same page. Supervised has provided me a good platform to remove all such qualms which were wrangling in my mind\"\n",
    "extract1 = re.findall('Data Science', extract)\n",
    "print(extract1)"
   ]
  },
  {
   "cell_type": "code",
   "execution_count": 263,
   "metadata": {},
   "outputs": [
    {
     "name": "stdout",
     "output_type": "stream",
     "text": [
      "Frequency of: I : 3\n",
      "Frequency of: am : 1\n",
      "Frequency of: very : 1\n",
      "Frequency of: keen : 1\n",
      "Frequency of: in : 3\n",
      "Frequency of: building : 1\n",
      "Frequency of: up : 1\n",
      "Frequency of: my : 2\n",
      "Frequency of: career : 1\n",
      "Frequency of: Data : 1\n",
      "Frequency of: Science, : 1\n",
      "Frequency of: but : 1\n",
      "Frequency of: not : 1\n",
      "Frequency of: sure : 1\n",
      "Frequency of: from : 1\n",
      "Frequency of: where : 1\n",
      "Frequency of: to : 3\n",
      "Frequency of: start. : 1\n",
      "Frequency of: If : 1\n",
      "Frequency of: search : 1\n",
      "Frequency of: the : 2\n",
      "Frequency of: web : 1\n",
      "Frequency of: it : 1\n",
      "Frequency of: throws : 1\n",
      "Frequency of: me : 3\n",
      "Frequency of: thousands : 1\n",
      "Frequency of: of : 1\n",
      "Frequency of: articles, : 1\n",
      "Frequency of: few : 1\n",
      "Frequency of: are : 1\n",
      "Frequency of: relevant : 1\n",
      "Frequency of: others : 1\n",
      "Frequency of: make : 1\n",
      "Frequency of: confused, : 1\n",
      "Frequency of: again : 1\n",
      "Frequency of: come : 1\n",
      "Frequency of: around : 1\n",
      "Frequency of: same : 1\n",
      "Frequency of: page. : 1\n",
      "Frequency of: Supervised : 1\n",
      "Frequency of: has : 1\n",
      "Frequency of: provided : 1\n",
      "Frequency of: a : 1\n",
      "Frequency of: good : 1\n",
      "Frequency of: platform : 1\n",
      "Frequency of: remove : 1\n",
      "Frequency of: all : 1\n",
      "Frequency of: such : 1\n",
      "Frequency of: qualms : 1\n",
      "Frequency of: which : 1\n",
      "Frequency of: were : 1\n",
      "Frequency of: wrangling : 1\n",
      "Frequency of: mind : 1\n"
     ]
    }
   ],
   "source": [
    "#Frequence of words\n",
    "frequency = \" I am very keen in building up my career in Data Science, but not sure from where to start. If I search the web it throws me thousands of articles, few are relevant others make me confused, again I come around to the same page. Supervised has provided me a good platform to remove all such qualms which were wrangling in my mind\"\n",
    "frequency1 = frequency.split()\n",
    "frequency2 = []\n",
    "\n",
    "for i in frequency1:\n",
    "        if i not in frequency2:\n",
    "            frequency2.append(i)\n",
    "                \n",
    "for i in range(len(frequency2)):\n",
    "        print('Frequency of:', frequency2[i] , ':', frequency1.count(frequency2[i]))\n",
    "\n",
    "\n"
   ]
  },
  {
   "cell_type": "code",
   "execution_count": 268,
   "metadata": {
    "scrolled": true
   },
   "outputs": [
    {
     "name": "stdout",
     "output_type": "stream",
     "text": [
      "I 3\n",
      "in 3\n",
      "my 2\n",
      "in 3\n",
      "to 3\n",
      "I 3\n",
      "the 2\n",
      "me 3\n",
      "me 3\n",
      "I 3\n",
      "to 3\n",
      "the 2\n",
      "me 3\n",
      "to 3\n",
      "in 3\n",
      "my 2\n"
     ]
    }
   ],
   "source": [
    "#Fetch the duplicate pairs used in the string.\n",
    "duplicate = \" I am very keen in building up my career in Data Science, but not sure from where to start. If I search the web it throws me thousands of articles, few are relevant others make me confused, again I come around to the same page. Supervised has provided me a good platform to remove all such qualms which were wrangling in my mind\"\n",
    "duplicate1 = duplicate.split()\n",
    "for z in duplicate1:\n",
    "  duplicates = duplicate1.count(z)\n",
    "  if duplicates > 1:\n",
    "    print(z, duplicates)"
   ]
  },
  {
   "cell_type": "code",
   "execution_count": 187,
   "metadata": {},
   "outputs": [
    {
     "data": {
      "text/plain": [
       "' I am very keen in building up my career in Data Science, but not sure from where to start. If I search the web it throws me thousands of articles, few are relevant others make me confused, again I come around to the same page. Unsupervised has provided me a good platform to remove all such qualms which were wrangling in my mind'"
      ]
     },
     "execution_count": 187,
     "metadata": {},
     "output_type": "execute_result"
    }
   ],
   "source": [
    "#Can you change the word \"Supervised\" to \"Unsupervised\" in the string\n",
    "Statement.replace('Supervised', 'Unsupervised')"
   ]
  },
  {
   "cell_type": "code",
   "execution_count": 9,
   "metadata": {},
   "outputs": [
    {
     "data": {
      "text/plain": [
       "[' I am very keen in building up my career in Data Science, but not sure from where to start',\n",
       " ' If I search the web it throws me thousands of articles, few are relevant others make me confused, again I come around to the same page',\n",
       " ' Supervised has provided me a good platform to remove all such qualms which were wrangling in my mind']"
      ]
     },
     "execution_count": 9,
     "metadata": {},
     "output_type": "execute_result"
    }
   ],
   "source": [
    "#Splitting the string with the dot operator\n",
    "x = \" I am very keen in building up my career in Data Science, but not sure from where to start. If I search the web it throws me thousands of articles, few are relevant others make me confused, again I come around to the same page. Supervised has provided me a good platform to remove all such qualms which were wrangling in my mind\"\n",
    "x.split(\".\")"
   ]
  },
  {
   "cell_type": "code",
   "execution_count": 10,
   "metadata": {},
   "outputs": [
    {
     "name": "stdout",
     "output_type": "stream",
     "text": [
      "['Science', 'sure', 'where', 'the', 'me', 'are', 'make', 'me', 'come', 'the', 'same', 'page', 'me', 'remove', 'were']\n"
     ]
    }
   ],
   "source": [
    "#words ending with e in a string\n",
    "import re\n",
    "y = \" I am very keen in building up my career in Data Science, but not sure from where to start. If I search the web it throws me thousands of articles, few are relevant others make me confused, again I come around to the same page. Supervised has provided me a good platform to remove all such qualms which were wrangling in my mind\"\n",
    "y1 = re.findall(r'\\b(\\w+e)\\b', y)\n",
    "print(y1)"
   ]
  },
  {
   "cell_type": "code",
   "execution_count": 11,
   "metadata": {},
   "outputs": [
    {
     "name": "stdout",
     "output_type": "stream",
     "text": [
      "22\n"
     ]
    }
   ],
   "source": [
    "##number of a's in a string\n",
    "import re\n",
    "z = \" I am very keen in building up my career in Data Science, but not sure from where to start. If I search the web it throws me thousands of articles, few are relevant others make me confused, again I come around to the same page. Supervised has provided me a good platform to remove all such qualms which were wrangling in my mind\"\n",
    "z1 = z.count('a')\n",
    "print(z1)"
   ]
  },
  {
   "cell_type": "code",
   "execution_count": 72,
   "metadata": {},
   "outputs": [
    {
     "name": "stdout",
     "output_type": "stream",
     "text": [
      "{'apple': 250, 'sugar': 500, 'rice': 2.5, 'milk': 2.5, 'eggs': 1}\n"
     ]
    }
   ],
   "source": [
    "#Creating Commodities Dictionary\n",
    "commodities_dict = {'apple': 250, 'sugar': 500, 'rice': 2.5,'milk': 2.5, 'eggs' : 1}\n",
    "print(commodities_dict)"
   ]
  },
  {
   "cell_type": "code",
   "execution_count": 73,
   "metadata": {},
   "outputs": [
    {
     "name": "stdout",
     "output_type": "stream",
     "text": [
      "{'apple': 250, 'sugar': 500, 'rice': 2.5, 'milk': 2.5, 'eggs': 1, 'atta packet': '1kg'}\n"
     ]
    }
   ],
   "source": [
    "#I forgot to mention another item, 1kg of atta packet. Can you also add it ?\n",
    "commodities_dict['atta packet'] = '1kg'\n",
    "print(commodities_dict)"
   ]
  },
  {
   "cell_type": "code",
   "execution_count": 78,
   "metadata": {},
   "outputs": [
    {
     "name": "stdout",
     "output_type": "stream",
     "text": [
      "{'apple': 250, 'sugar': 500, 'rice': 1, 'milk': 2.5, 'eggs': 1, 'atta packet': '1kg'}\n"
     ]
    }
   ],
   "source": [
    "#Instead of 2kg of rice, I bought only 1kg of rice. Can you change the corresponding value ?\n",
    "commodities_dict.update({'rice':1})\n",
    "print(commodities_dict)"
   ]
  },
  {
   "cell_type": "code",
   "execution_count": 75,
   "metadata": {
    "scrolled": true
   },
   "outputs": [
    {
     "name": "stdout",
     "output_type": "stream",
     "text": [
      "Commodities Purchased:\n",
      "('apple', 250)\n",
      "('sugar', 500)\n",
      "('rice', '1kg')\n",
      "('milk', 2.5)\n",
      "('eggs', 1)\n",
      "('atta packet', '1kg')\n"
     ]
    }
   ],
   "source": [
    "#Can you list out all these items using a loop.\n",
    "print('Commodities Purchased:')\n",
    "for item in commodities_dict.items():\n",
    "    print(item)"
   ]
  },
  {
   "cell_type": "code",
   "execution_count": 80,
   "metadata": {
    "scrolled": true
   },
   "outputs": [
    {
     "name": "stdout",
     "output_type": "stream",
     "text": [
      "{'apple': 0.25, 'sugar': 0.043, 'rice': 45, 'milk': 30, 'eggs': 60}\n"
     ]
    }
   ],
   "source": [
    "#Create another dictionary for pricing.\n",
    "commodities_pricing = {'apple': 250/1000, 'sugar': 43/1000, 'rice':45,'milk': 30, 'eggs':60}\n",
    "print(commodities_pricing)"
   ]
  },
  {
   "cell_type": "code",
   "execution_count": 101,
   "metadata": {},
   "outputs": [
    {
     "name": "stdout",
     "output_type": "stream",
     "text": [
      "{'apple': 62.5, 'sugar': 21.5, 'rice': 45, 'milk': 75.0, 'eggs': 60}\n",
      "264.0\n"
     ]
    }
   ],
   "source": [
    "#Prepare a overall bill\n",
    "each_price = {k: commodities_dict[k]*commodities_pricing[k] for k in commodities_pricing}\n",
    "overall_price = sum(commodities_dict[k]*commodities_pricing[k] for k in commodities_pricing)\n",
    "print(each_price)\n",
    "print(overall_price)"
   ]
  },
  {
   "cell_type": "code",
   "execution_count": 112,
   "metadata": {
    "scrolled": true
   },
   "outputs": [
    {
     "name": "stdout",
     "output_type": "stream",
     "text": [
      "['Amazon', 'Facebook', 'Google', 'Hisilicon', 'Apple', 'Microsoft', 'SenseTime']\n"
     ]
    }
   ],
   "source": [
    "#AI_Companies\n",
    "AI_Companies = ['Amazon', 'Facebook', 'Google', 'Hisilicon', 'Apple', 'Microsoft', 'SenseTime']\n",
    "print(AI_Companies)"
   ]
  },
  {
   "cell_type": "code",
   "execution_count": 116,
   "metadata": {},
   "outputs": [
    {
     "data": {
      "text/plain": [
       "['Amazon',\n",
       " 'Apple',\n",
       " 'Facebook',\n",
       " 'Google',\n",
       " 'Hisilicon',\n",
       " 'Microsoft',\n",
       " 'SenseTime']"
      ]
     },
     "execution_count": 116,
     "metadata": {},
     "output_type": "execute_result"
    }
   ],
   "source": [
    "#Sort the list in ascending order\n",
    "AI_Companies.sort()\n",
    "AI_Companies"
   ]
  },
  {
   "cell_type": "code",
   "execution_count": 117,
   "metadata": {},
   "outputs": [
    {
     "data": {
      "text/plain": [
       "['Amazon',\n",
       " 'Apple',\n",
       " 'Facebook',\n",
       " 'Google',\n",
       " 'Hisilicon',\n",
       " 'Microsoft',\n",
       " 'SenseTime',\n",
       " 'Nvidia',\n",
       " 'OpenAI',\n",
       " 'Qualcomm',\n",
       " 'Reliance']"
      ]
     },
     "execution_count": 117,
     "metadata": {},
     "output_type": "execute_result"
    }
   ],
   "source": [
    "#Add multiple companies at once 'Nvidia', 'OpenAI' , 'Qualcomm' and 'Reliance' to the list\n",
    "AI_Companies.extend(['Nvidia', 'OpenAI' , 'Qualcomm', 'Reliance'])\n",
    "AI_Companies"
   ]
  },
  {
   "cell_type": "code",
   "execution_count": 145,
   "metadata": {},
   "outputs": [
    {
     "data": {
      "text/plain": [
       "['Amazon',\n",
       " 'Apple',\n",
       " 'Facebook',\n",
       " 'Google',\n",
       " 'Hisilicon',\n",
       " 'Microsoft',\n",
       " 'SenseTime',\n",
       " 'Nvidia',\n",
       " 'OpenAI',\n",
       " 'Qualcomm']"
      ]
     },
     "execution_count": 145,
     "metadata": {},
     "output_type": "execute_result"
    }
   ],
   "source": [
    "#Elimiate 'Reliance' from the list\n",
    "AI_Companies.remove('Reliance')\n",
    "AI_Companies"
   ]
  },
  {
   "cell_type": "code",
   "execution_count": 171,
   "metadata": {
    "scrolled": true
   },
   "outputs": [
    {
     "name": "stdout",
     "output_type": "stream",
     "text": [
      "Facebook Google Microsoft\n"
     ]
    }
   ],
   "source": [
    "#Extract 'Facebook', 'Google' and 'Microsoft' using a single command\n",
    "from operator import itemgetter \n",
    "print(*itemgetter(2, 3, 5)(AI_Companies))"
   ]
  },
  {
   "cell_type": "code",
   "execution_count": 205,
   "metadata": {},
   "outputs": [
    {
     "data": {
      "text/plain": [
       "(220, 43, 45, 30, 60)"
      ]
     },
     "execution_count": 205,
     "metadata": {},
     "output_type": "execute_result"
    }
   ],
   "source": [
    "#Consider the above standard price problem statement and place the prices in the form of the tuple\n",
    "price_tuple = (220, 43, 45, 30, 60)\n",
    "price_tuple"
   ]
  },
  {
   "cell_type": "code",
   "execution_count": 206,
   "metadata": {},
   "outputs": [
    {
     "data": {
      "text/plain": [
       "(30, 220)"
      ]
     },
     "execution_count": 206,
     "metadata": {},
     "output_type": "execute_result"
    }
   ],
   "source": [
    "#Find out the min and max price among them.\n",
    "min(price_tuple) , max(price_tuple)"
   ]
  },
  {
   "cell_type": "code",
   "execution_count": 207,
   "metadata": {},
   "outputs": [
    {
     "data": {
      "text/plain": [
       "('Amazon',\n",
       " 'Apple',\n",
       " 'Facebook',\n",
       " 'Google',\n",
       " 'Hisilicon',\n",
       " 'Microsoft',\n",
       " 'SenseTime',\n",
       " 'Nvidia',\n",
       " 'OpenAI',\n",
       " 'Qualcomm')"
      ]
     },
     "execution_count": 207,
     "metadata": {},
     "output_type": "execute_result"
    }
   ],
   "source": [
    "#Also, convert the above \"AI_companies\" list to a tuple.\n",
    "AI_tuple = tuple(AI_Companies)\n",
    "AI_tuple"
   ]
  },
  {
   "cell_type": "code",
   "execution_count": 208,
   "metadata": {},
   "outputs": [
    {
     "name": "stdout",
     "output_type": "stream",
     "text": [
      "(220, 43, 45, 30, 60, 'Amazon', 'Apple', 'Facebook', 'Google', 'Hisilicon', 'Microsoft', 'SenseTime', 'Nvidia', 'OpenAI', 'Qualcomm')\n"
     ]
    }
   ],
   "source": [
    "#Combine two above tuples to a single tuple.\n",
    "print(price_tuple + AI_tuple)"
   ]
  },
  {
   "cell_type": "code",
   "execution_count": 216,
   "metadata": {},
   "outputs": [
    {
     "name": "stdout",
     "output_type": "stream",
     "text": [
      "length of Price Tuple: 5\n",
      "Length of the AI_Tuple: 10\n"
     ]
    },
    {
     "data": {
      "text/plain": [
       "False"
      ]
     },
     "execution_count": 216,
     "metadata": {},
     "output_type": "execute_result"
    }
   ],
   "source": [
    "#Compare the length of two tuples.\n",
    "print('length of Price Tuple:', len(price_tuple))\n",
    "print('Length of the AI_Tuple:', len(AI_tuple))\n",
    "len(price_tuple) == len(AI_tuple)"
   ]
  }
 ],
 "metadata": {
  "kernelspec": {
   "display_name": "Python 3",
   "language": "python",
   "name": "python3"
  },
  "language_info": {
   "codemirror_mode": {
    "name": "ipython",
    "version": 3
   },
   "file_extension": ".py",
   "mimetype": "text/x-python",
   "name": "python",
   "nbconvert_exporter": "python",
   "pygments_lexer": "ipython3",
   "version": "3.7.4"
  }
 },
 "nbformat": 4,
 "nbformat_minor": 2
}
